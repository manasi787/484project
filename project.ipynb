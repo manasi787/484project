{
 "cells": [
  {
   "cell_type": "markdown",
   "id": "51719412",
   "metadata": {},
   "source": [
    "# CS 484 :: Data Mining :: George Mason University :: Spring 2023\n",
    "\n",
    "\n",
    "# Air Quality in India Before and After COVID-19 Pandemic\n",
    "\n",
    "**Team Name: Frack Yeah!**\n",
    "\n",
    "**Team Members**:\n",
    "  - **Manasi Mudumbai**\n",
    "    - **NetID**: mmudumba\n",
    "    - **email**: mmudumba@gmu.edu\n",
    "    - **G#**: G01199180\n",
    "  - Hima Bindu Mudda\n",
    "    - **NetID**: hmudda\n",
    "    - **email**: hmudda@gmu.edu\n",
    "    - **G#**: G01212598\n",
    "  - Sami Bekuma\n",
    "    - **NetID**: sbekuma\n",
    "    - **email**: sbekuma@gmu.edu\n",
    "    - **G#**: G01333955\n",
    "  - Soban Ali\n",
    "    - **NetID**: sali60\n",
    "    - **email**: sali60@gmu.edu \n",
    "    - **G#**: G01176334"
   ]
  },
  {
   "cell_type": "markdown",
   "id": "ecc3f80f",
   "metadata": {},
   "source": [
    "# Background and Motivation\n",
    "\n",
    "Our group memeber, Sami, came across this article:\n",
    "https://www.cnn.com/2021/03/16/health/world-air-quality-report-intl-hnk-scn/index.html\n",
    "which discussed how the COVID-19 pandemic improved air quality in many countries across the world. Seeing this difference was eye-opening to us, so we decided to dig deeper into the overall effect of the pandemic for air quality. "
   ]
  },
  {
   "cell_type": "markdown",
   "id": "939d6c1e",
   "metadata": {},
   "source": [
    "# Goal\n",
    "\n",
    "The goal of this project is to use data mining techniques to identify trends in air quality in urban areas of India to develop predictive models that estimate the level of pollution based on COVID-19 pandemic countermeasures.\n",
    "\n",
    "The focus of this study is to examine how overall air quality has been impacted since before and after mass shutdowns and other pandemic-prevention activities. The study will provide information on the specific details of the data used, as well as the dependent and independent variables involved."
   ]
  },
  {
   "cell_type": "markdown",
   "id": "88ec8144",
   "metadata": {},
   "source": [
    "# Dataset\n",
    "The dataset we will be using is: \n",
    "https://www.kaggle.com/datasets/fedesoriano/air-quality-data-in-india?resource=download \n",
    "\n",
    "This dataset contains hourly air quality (PM2.5) information from November 2017 to June 2022. PM2.5 is the fine particulate matter air pollutant level in air. We believe this will be an accurate measure for how healthy air quality is, and see how the data trends. "
   ]
  },
  {
   "cell_type": "markdown",
   "id": "9e18338a",
   "metadata": {},
   "source": [
    "# Part 1: Plot data to see physical trends\n",
    "\n",
    "The first part we'd like to complete is to physically see the data trends over time. \n",
    "\n",
    "First, we want to put it into a dataframe:"
   ]
  },
  {
   "cell_type": "code",
   "execution_count": 3,
   "id": "9cac5b63",
   "metadata": {},
   "outputs": [
    {
     "name": "stdout",
     "output_type": "stream",
     "text": [
      "             Timestamp  Year  Month  Day  Hour   PM2.5\n",
      "0  2017-11-07 12:00:00  2017     11    7    12   64.51\n",
      "1  2017-11-07 13:00:00  2017     11    7    13   69.95\n",
      "2  2017-11-07 14:00:00  2017     11    7    14   92.79\n",
      "3  2017-11-07 15:00:00  2017     11    7    15  109.66\n",
      "4  2017-11-07 16:00:00  2017     11    7    16  116.50\n"
     ]
    }
   ],
   "source": [
    "# write code here\n",
    "import pandas as pd\n",
    "import numpy as np\n",
    "\n",
    "data_frame_one = pd.read_csv('air-quality-india.csv')\n",
    "\n",
    "# Display the first few rows of the dataframe\n",
    "print(data_frame_one.head())"
   ]
  },
  {
   "cell_type": "code",
   "execution_count": 12,
   "id": "0802f3cb",
   "metadata": {},
   "outputs": [
    {
     "name": "stdout",
     "output_type": "stream",
     "text": [
      "       location        date  total_cases\n",
      "121486    India  2020-01-03          NaN\n",
      "121487    India  2020-01-04          NaN\n",
      "121488    India  2020-01-05          NaN\n",
      "121489    India  2020-01-06          NaN\n",
      "121490    India  2020-01-07          NaN\n"
     ]
    }
   ],
   "source": [
    "data_frame_two = pd.read_csv('owid-covid-data.csv', usecols=[\"location\", \"date\", \"total_cases\"])\n",
    "\n",
    "df_filtered = data_frame_two[data_frame_two[\"location\"] == \"India\"]\n",
    "\n",
    "# Display the first few rows of the dataframe\n",
    "print(df_filtered.head())"
   ]
  },
  {
   "cell_type": "markdown",
   "id": "9b48751a",
   "metadata": {},
   "source": [
    "# Part 2: Linear Regression\n",
    "\n",
    "We want to establish a basic understanding of the trend from before and after the pandemic using linear regression"
   ]
  },
  {
   "cell_type": "code",
   "execution_count": 13,
   "id": "e71bd9fb",
   "metadata": {},
   "outputs": [],
   "source": [
    "# write code here\n",
    "from sklearn.linear_model import LinearRegression\n"
   ]
  },
  {
   "cell_type": "markdown",
   "id": "a23032e9",
   "metadata": {},
   "source": [
    "# Part 3: Find correlations between air quality and the year it was taken\n",
    "\n",
    "This way, we can see if COVID-19 precautions influenced air quality or not."
   ]
  },
  {
   "cell_type": "code",
   "execution_count": 3,
   "id": "f648956d",
   "metadata": {},
   "outputs": [],
   "source": [
    "# write code here"
   ]
  },
  {
   "cell_type": "markdown",
   "id": "d7a88025",
   "metadata": {},
   "source": [
    "# Part 4: Predict air quality based on results\n",
    "\n",
    "yeah"
   ]
  },
  {
   "cell_type": "code",
   "execution_count": 4,
   "id": "fc9643a2",
   "metadata": {},
   "outputs": [],
   "source": [
    "# write code here"
   ]
  },
  {
   "cell_type": "code",
   "execution_count": null,
   "id": "714d56a1",
   "metadata": {},
   "outputs": [],
   "source": []
  }
 ],
 "metadata": {
  "kernelspec": {
   "display_name": "Python 3 (ipykernel)",
   "language": "python",
   "name": "python3"
  },
  "language_info": {
   "codemirror_mode": {
    "name": "ipython",
    "version": 3
   },
   "file_extension": ".py",
   "mimetype": "text/x-python",
   "name": "python",
   "nbconvert_exporter": "python",
   "pygments_lexer": "ipython3",
   "version": "3.10.9"
  }
 },
 "nbformat": 4,
 "nbformat_minor": 5
}
