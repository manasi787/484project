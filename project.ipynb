{
 "cells": [
  {
   "cell_type": "markdown",
   "id": "51719412",
   "metadata": {},
   "source": [
    "# CS 484 :: Data Mining :: George Mason University :: Spring 2023\n",
    "\n",
    "\n",
    "# Air Quality in India Before and After COVID-19 Pandemic\n",
    "\n",
    "**Team Name: Frack Yeah!**\n",
    "\n",
    "**Team Members**:\n",
    "  - Manasi Mudumbai\n",
    "    - **NetID**: mmudumba\n",
    "    - **email**: mmudumba@gmu.edu\n",
    "    - **G#**: G01199180\n",
    "  - Hima Bindu Mudda\n",
    "    - **NetID**: hmudda\n",
    "    - **email**: hmudda@gmu.edu\n",
    "    - **G#**: G01212598\n",
    "  - Sami Bekuma\n",
    "    - **NetID**: sbekuma\n",
    "    - **email**: sbekuma@gmu.edu\n",
    "    - **G#**: G01333955\n",
    "  - Soban Ali\n",
    "    - **NetID**: sali60\n",
    "    - **email**: sali60@gmu.edu \n",
    "    - **G#**: G01176334"
   ]
  },
  {
   "cell_type": "markdown",
   "id": "ecc3f80f",
   "metadata": {},
   "source": [
    "# Background and Motivation\n",
    "\n",
    "Our group memeber, Sami, came across this article:\n",
    "https://www.cnn.com/2021/03/16/health/world-air-quality-report-intl-hnk-scn/index.html\n",
    "which discussed how the COVID-19 pandemic improved air quality in many countries across the world. Seeing this difference was eye-opening to us, so we decided to dig deeper into the overall effect of the pandemic for air quality. "
   ]
  },
  {
   "cell_type": "markdown",
   "id": "939d6c1e",
   "metadata": {},
   "source": [
    "# Goal\n",
    "\n",
    "The goal of this project is to use data mining techniques to identify trends in air quality in urban areas of India to develop predictive models that estimate the level of pollution based on COVID-19 pandemic countermeasures.\n",
    "\n",
    "The focus of this study is to examine how overall air quality has been impacted since before and after mass shutdowns and other pandemic-prevention activities. The study will provide information on the specific details of the data used, as well as the dependent and independent variables involved."
   ]
  },
  {
   "cell_type": "markdown",
   "id": "88ec8144",
   "metadata": {},
   "source": [
    "# Dataset\n",
    "The dataset we will be using for tracking air quality is: \n",
    "https://www.kaggle.com/datasets/fedesoriano/air-quality-data-in-india?resource=download \n",
    "This dataset contains hourly air quality (PM2.5) information from November 2017 to June 2022. PM2.5 is the fine particulate matter air pollutant level in air. We believe this will be an accurate measure for how healthy air quality is, and see how the data trends. \n",
    "\n",
    "\n",
    "The dataset we will be using for tracking COVID-19 cases is:\n",
    "https://ourworldindata.org/coronavirus/country/india \n",
    "This dataset contains information from all over the world regarding COVID-19. The columns we will be using to filter are Location (\"India\"), Date, and Total Cases"
   ]
  },
  {
   "cell_type": "markdown",
   "id": "9e18338a",
   "metadata": {},
   "source": [
    "# Part 1: Plot data to see physical trends\n",
    "\n",
    "The first part we'd like to complete is to physically see the data trends over time. \n",
    "\n",
    "First, we want to put our air quality dataset into a dataframe:"
   ]
  },
  {
   "cell_type": "code",
   "execution_count": 23,
   "id": "9cac5b63",
   "metadata": {},
   "outputs": [
    {
     "data": {
      "text/html": [
       "<div>\n",
       "<style scoped>\n",
       "    .dataframe tbody tr th:only-of-type {\n",
       "        vertical-align: middle;\n",
       "    }\n",
       "\n",
       "    .dataframe tbody tr th {\n",
       "        vertical-align: top;\n",
       "    }\n",
       "\n",
       "    .dataframe thead th {\n",
       "        text-align: right;\n",
       "    }\n",
       "</style>\n",
       "<table border=\"1\" class=\"dataframe\">\n",
       "  <thead>\n",
       "    <tr style=\"text-align: right;\">\n",
       "      <th></th>\n",
       "      <th>PM2.5</th>\n",
       "      <th>date</th>\n",
       "    </tr>\n",
       "  </thead>\n",
       "  <tbody>\n",
       "    <tr>\n",
       "      <th>0</th>\n",
       "      <td>64.51</td>\n",
       "      <td>2017-11-07</td>\n",
       "    </tr>\n",
       "    <tr>\n",
       "      <th>1</th>\n",
       "      <td>69.95</td>\n",
       "      <td>2017-11-07</td>\n",
       "    </tr>\n",
       "    <tr>\n",
       "      <th>2</th>\n",
       "      <td>92.79</td>\n",
       "      <td>2017-11-07</td>\n",
       "    </tr>\n",
       "    <tr>\n",
       "      <th>3</th>\n",
       "      <td>109.66</td>\n",
       "      <td>2017-11-07</td>\n",
       "    </tr>\n",
       "    <tr>\n",
       "      <th>4</th>\n",
       "      <td>116.50</td>\n",
       "      <td>2017-11-07</td>\n",
       "    </tr>\n",
       "  </tbody>\n",
       "</table>\n",
       "</div>"
      ],
      "text/plain": [
       "    PM2.5        date\n",
       "0   64.51  2017-11-07\n",
       "1   69.95  2017-11-07\n",
       "2   92.79  2017-11-07\n",
       "3  109.66  2017-11-07\n",
       "4  116.50  2017-11-07"
      ]
     },
     "execution_count": 23,
     "metadata": {},
     "output_type": "execute_result"
    }
   ],
   "source": [
    "# write code here\n",
    "import numpy as np\n",
    "import pandas as pd\n",
    "data_frame = pd.read_csv('air-quality-india.csv')\n",
    "# Convert the timestamp to a datetime object and extract the date\n",
    "data_frame['Timestamp'] = pd.to_datetime(data_frame['Timestamp'])\n",
    "data_frame['date'] = data_frame['Timestamp'].dt.date\n",
    "data_frame = data_frame.drop([\"Timestamp\", \"Year\", \"Month\", \"Day\", \"Hour\"], axis=1)\n",
    "data_frame.head()"
   ]
  },
  {
   "cell_type": "markdown",
   "id": "4ed04e3f",
   "metadata": {},
   "source": [
    "To get a better approximation for our data, we're going to average the PM2.5 measurement for the day and use that to plot and compare the data to COVID-19 cases"
   ]
  },
  {
   "cell_type": "code",
   "execution_count": 25,
   "id": "8706a7bd",
   "metadata": {},
   "outputs": [
    {
     "data": {
      "text/html": [
       "<div>\n",
       "<style scoped>\n",
       "    .dataframe tbody tr th:only-of-type {\n",
       "        vertical-align: middle;\n",
       "    }\n",
       "\n",
       "    .dataframe tbody tr th {\n",
       "        vertical-align: top;\n",
       "    }\n",
       "\n",
       "    .dataframe thead th {\n",
       "        text-align: right;\n",
       "    }\n",
       "</style>\n",
       "<table border=\"1\" class=\"dataframe\">\n",
       "  <thead>\n",
       "    <tr style=\"text-align: right;\">\n",
       "      <th></th>\n",
       "      <th>PM2.5</th>\n",
       "    </tr>\n",
       "    <tr>\n",
       "      <th>date</th>\n",
       "      <th></th>\n",
       "    </tr>\n",
       "  </thead>\n",
       "  <tbody>\n",
       "    <tr>\n",
       "      <th>2017-11-07</th>\n",
       "      <td>99.805833</td>\n",
       "    </tr>\n",
       "    <tr>\n",
       "      <th>2017-11-08</th>\n",
       "      <td>110.979565</td>\n",
       "    </tr>\n",
       "    <tr>\n",
       "      <th>2017-11-09</th>\n",
       "      <td>114.915833</td>\n",
       "    </tr>\n",
       "    <tr>\n",
       "      <th>2017-11-10</th>\n",
       "      <td>119.404091</td>\n",
       "    </tr>\n",
       "    <tr>\n",
       "      <th>2017-11-11</th>\n",
       "      <td>109.267273</td>\n",
       "    </tr>\n",
       "  </tbody>\n",
       "</table>\n",
       "</div>"
      ],
      "text/plain": [
       "                 PM2.5\n",
       "date                  \n",
       "2017-11-07   99.805833\n",
       "2017-11-08  110.979565\n",
       "2017-11-09  114.915833\n",
       "2017-11-10  119.404091\n",
       "2017-11-11  109.267273"
      ]
     },
     "execution_count": 25,
     "metadata": {},
     "output_type": "execute_result"
    }
   ],
   "source": [
    "# write code to average PM2.5 data to have one row for one day\n",
    "data_frame = data_frame.groupby(\"date\").mean()\n",
    "data_frame.head()"
   ]
  },
  {
   "cell_type": "markdown",
   "id": "8d696683",
   "metadata": {},
   "source": [
    "To get COVID-19 data specific to India, we wrote code to parse the csv to just the rows containing India"
   ]
  },
  {
   "cell_type": "code",
   "execution_count": 26,
   "id": "d12f82be",
   "metadata": {},
   "outputs": [],
   "source": [
    "data_frame_two = pd.read_csv('owid-covid-data.csv', usecols=[\"location\", \"date\", \"total_cases\", \"new_cases\"])\n",
    "\n",
    "df_filtered = data_frame_two[data_frame_two[\"location\"] == \"India\"]\n",
    "\n",
    "df_filtered.to_csv(\"FILTERED-owid-covid-data.csv\", encoding='utf-8')"
   ]
  },
  {
   "cell_type": "markdown",
   "id": "ba65b1af",
   "metadata": {},
   "source": [
    "Now that we have the file containing India data from the big COVID-19 data file, we can put it into a data frame"
   ]
  },
  {
   "cell_type": "code",
   "execution_count": 30,
   "id": "f6419602",
   "metadata": {},
   "outputs": [
    {
     "data": {
      "text/html": [
       "<div>\n",
       "<style scoped>\n",
       "    .dataframe tbody tr th:only-of-type {\n",
       "        vertical-align: middle;\n",
       "    }\n",
       "\n",
       "    .dataframe tbody tr th {\n",
       "        vertical-align: top;\n",
       "    }\n",
       "\n",
       "    .dataframe thead th {\n",
       "        text-align: right;\n",
       "    }\n",
       "</style>\n",
       "<table border=\"1\" class=\"dataframe\">\n",
       "  <thead>\n",
       "    <tr style=\"text-align: right;\">\n",
       "      <th></th>\n",
       "      <th>Unnamed: 0</th>\n",
       "      <th>location</th>\n",
       "      <th>date</th>\n",
       "      <th>total_cases</th>\n",
       "      <th>new_cases</th>\n",
       "    </tr>\n",
       "  </thead>\n",
       "  <tbody>\n",
       "    <tr>\n",
       "      <th>0</th>\n",
       "      <td>121486</td>\n",
       "      <td>India</td>\n",
       "      <td>2020-01-03</td>\n",
       "      <td>NaN</td>\n",
       "      <td>0.0</td>\n",
       "    </tr>\n",
       "    <tr>\n",
       "      <th>1</th>\n",
       "      <td>121487</td>\n",
       "      <td>India</td>\n",
       "      <td>2020-01-04</td>\n",
       "      <td>NaN</td>\n",
       "      <td>0.0</td>\n",
       "    </tr>\n",
       "    <tr>\n",
       "      <th>2</th>\n",
       "      <td>121488</td>\n",
       "      <td>India</td>\n",
       "      <td>2020-01-05</td>\n",
       "      <td>NaN</td>\n",
       "      <td>0.0</td>\n",
       "    </tr>\n",
       "    <tr>\n",
       "      <th>3</th>\n",
       "      <td>121489</td>\n",
       "      <td>India</td>\n",
       "      <td>2020-01-06</td>\n",
       "      <td>NaN</td>\n",
       "      <td>0.0</td>\n",
       "    </tr>\n",
       "    <tr>\n",
       "      <th>4</th>\n",
       "      <td>121490</td>\n",
       "      <td>India</td>\n",
       "      <td>2020-01-07</td>\n",
       "      <td>NaN</td>\n",
       "      <td>0.0</td>\n",
       "    </tr>\n",
       "  </tbody>\n",
       "</table>\n",
       "</div>"
      ],
      "text/plain": [
       "   Unnamed: 0 location        date  total_cases  new_cases\n",
       "0      121486    India  2020-01-03          NaN        0.0\n",
       "1      121487    India  2020-01-04          NaN        0.0\n",
       "2      121488    India  2020-01-05          NaN        0.0\n",
       "3      121489    India  2020-01-06          NaN        0.0\n",
       "4      121490    India  2020-01-07          NaN        0.0"
      ]
     },
     "execution_count": 30,
     "metadata": {},
     "output_type": "execute_result"
    }
   ],
   "source": [
    "covid_df = pd.read_csv('FILTERED-owid-covid-data.csv')\n",
    "covid_df.head()"
   ]
  },
  {
   "cell_type": "markdown",
   "id": "9b48751a",
   "metadata": {},
   "source": [
    "# Part 2: Linear Regression\n",
    "\n",
    "We want to establish a basic understanding of the trend from before and after the pandemic using linear regression"
   ]
  },
  {
   "cell_type": "code",
   "execution_count": 2,
   "id": "e71bd9fb",
   "metadata": {},
   "outputs": [],
   "source": [
    "# write code here"
   ]
  },
  {
   "cell_type": "markdown",
   "id": "a23032e9",
   "metadata": {},
   "source": [
    "# Part 3: Find correlations between air quality and the year it was taken\n",
    "\n",
    "This way, we can see if COVID-19 precautions influenced air quality or not."
   ]
  },
  {
   "cell_type": "code",
   "execution_count": 3,
   "id": "f648956d",
   "metadata": {},
   "outputs": [],
   "source": [
    "# write code here"
   ]
  },
  {
   "cell_type": "markdown",
   "id": "d7a88025",
   "metadata": {},
   "source": [
    "# Part 4: Predict air quality based on results\n",
    "\n",
    "yeah"
   ]
  },
  {
   "cell_type": "code",
   "execution_count": 4,
   "id": "fc9643a2",
   "metadata": {},
   "outputs": [],
   "source": [
    "# write code here"
   ]
  },
  {
   "cell_type": "code",
   "execution_count": null,
   "id": "714d56a1",
   "metadata": {},
   "outputs": [],
   "source": []
  }
 ],
 "metadata": {
  "kernelspec": {
   "display_name": "Python 3 (ipykernel)",
   "language": "python",
   "name": "python3"
  },
  "language_info": {
   "codemirror_mode": {
    "name": "ipython",
    "version": 3
   },
   "file_extension": ".py",
   "mimetype": "text/x-python",
   "name": "python",
   "nbconvert_exporter": "python",
   "pygments_lexer": "ipython3",
   "version": "3.10.9"
  }
 },
 "nbformat": 4,
 "nbformat_minor": 5
}
